{
 "cells": [
  {
   "cell_type": "code",
   "execution_count": 32,
   "id": "ac051271",
   "metadata": {},
   "outputs": [],
   "source": [
    "import os\n",
    "import re\n",
    "import numpy as np"
   ]
  },
  {
   "cell_type": "markdown",
   "id": "15de5e80",
   "metadata": {},
   "source": [
    "Read file from DUC_TEXT/test\n",
    "Create a dictionary save all the metadata of sentences\n",
    "Create unique sentence_id"
   ]
  },
  {
   "cell_type": "code",
   "execution_count": 33,
   "id": "fe960101",
   "metadata": {},
   "outputs": [],
   "source": [
    "# Read file from DUC_TEXT/test\n",
    "\n",
    "file_path = \"DUC_TEXT/test/d114h\"  \n",
    "\n",
    "with open(file_path, \"r\", encoding=\"utf-8\") as file:\n",
    "    doc_file = file.read()\n",
    "\n",
    "# print(\"Read file from DUC_TEXT/test\")\n",
    "# print(doc_file)"
   ]
  },
  {
   "cell_type": "code",
   "execution_count": 34,
   "id": "65296f84",
   "metadata": {},
   "outputs": [],
   "source": [
    "# Create a dictionary save all the metadata of sentences\n",
    "def parse_doc (doc_file):\n",
    "    \"\"\"\n",
    "    Parse the document file and extract sentences metadata.\n",
    "    \n",
    "    Args:\n",
    "        doc_file (str): The content of the document file.\n",
    "        \n",
    "    Returns:\n",
    "        dict: A dictionary with sentence_id as keys and metadata as values.\n",
    "    \"\"\"\n",
    "    sentences_dict = {}\n",
    "    # Create unique sentence_id\n",
    "    # Initialize sentence_id to 0\n",
    "    sentence_id = 0\n",
    "\n",
    "    # Find all sentences tags and their content in the document\n",
    "    sentence_matches = re.findall(r'<s\\s+docid=\"([^\"]+)\"\\s+num=\"([^\"]+)\"\\s+wdcount=\"([^\"]+)\">\\s*(.*?)\\s*</s>', doc_file, re.DOTALL)\n",
    "\n",
    "    for doc_id, num, wdcount, sentence_text in sentence_matches:\n",
    "        sentences_dict[sentence_id] = {\n",
    "            \"doc_id\": doc_id,\n",
    "            \"num\": num,\n",
    "            \"wdcount\": int(wdcount),\n",
    "            \"sentence_text\": sentence_text.strip()\n",
    "        }\n",
    "        sentence_id += 1    \n",
    "    return sentences_dict\n",
    "\n",
    "sentences_dict = parse_doc(doc_file)\n",
    "# Print the sentences dictionary\n",
    "# print(sentences_dict)\n",
    "# for sid, metadata in sentences_dict.items():\n",
    "#     print(f\"Sentence ID: {sid}, Metadata: {metadata}\")\n",
    "# print(f\"Total sentences processed: {len(sentences_dict)}\")"
   ]
  },
  {
   "cell_type": "markdown",
   "id": "213d326d",
   "metadata": {},
   "source": [
    "Calculate connection by n common word"
   ]
  },
  {
   "cell_type": "code",
   "execution_count": 35,
   "id": "5164b6c6",
   "metadata": {},
   "outputs": [],
   "source": [
    "def has_connection(sentence1, sentence2, min_common_words=7):\n",
    "    \"\"\"\n",
    "    Check if two sentences have a connection based on common words.\n",
    "    \n",
    "    Args:\n",
    "        sentence1 (str): The first sentence.\n",
    "        sentence2 (str): The second sentence.\n",
    "        mincommon_words (int): Minimum number of common words to consider a connection.\n",
    "        \n",
    "    Returns:\n",
    "        bool: True if there is a connection, False otherwise.\n",
    "    \"\"\"\n",
    "    words1 = set(re.findall(r'\\b\\w+\\b', sentence1.lower()))\n",
    "    words2 = set(re.findall(r'\\b\\w+\\b', sentence2.lower()))\n",
    "    common_words = words1.intersection(words2)\n",
    "    return len(common_words) >= min_common_words"
   ]
  },
  {
   "cell_type": "markdown",
   "id": "d616373b",
   "metadata": {},
   "source": [
    "Create connection matrix"
   ]
  },
  {
   "cell_type": "code",
   "execution_count": 36,
   "id": "e4b2e69d",
   "metadata": {},
   "outputs": [],
   "source": [
    "def create_connection_matrix(sentences_dict):\n",
    "    \"\"\"\n",
    "    Create a connection matrix based on the sentences metadata.\n",
    "    \n",
    "    Args:\n",
    "        sentences_dict (dict): A dictionary with sentence_id as keys and metadata as values.\n",
    "        \n",
    "    Returns:\n",
    "        np.ndarray: A balance two-dimentional matrix where matrix[i][j] is True\n",
    "                    if sentence i and sentence j have connection, and 0 otherwise.\n",
    "    \"\"\"\n",
    "    num_sentences = len(sentences_dict)\n",
    "    connection_matrix = np.full((num_sentences, num_sentences), False, dtype=bool)\n",
    "\n",
    "    # Get all sentence texts\n",
    "    sentence_texts = [sentences_dict[i]['sentence_text'] for i in range(num_sentences)]\n",
    "\n",
    "    # Compare each pair of sentences\n",
    "    for i in range(num_sentences):\n",
    "        for j in range(i + 1, num_sentences):\n",
    "            if has_connection(sentence_texts[i], sentence_texts[j]):\n",
    "                connection_matrix[i][j] = True\n",
    "                connection_matrix[j][i] = True\n",
    "\n",
    "\n",
    "    return connection_matrix\n",
    "connection_matrix = create_connection_matrix(sentences_dict)\n",
    "# Print the connection matrix\n",
    "# print(\"Connection Matrix:\")\n",
    "# print(connection_matrix)"
   ]
  },
  {
   "cell_type": "markdown",
   "id": "c8b6f0bc",
   "metadata": {},
   "source": [
    "Calculate pageRank score\n",
    "The PageRank formula is defined as:\n",
    "\n",
    "$$\n",
    "PR(i) = \\frac{1 - d}{N} + d \\sum_{j \\in M(i)} \\frac{PR(j)}{deg(j)}\n",
    "$$\n",
    "\n",
    "Where:\n",
    "\n",
    "- $PR(i)$ is the PageRank of node $i$\n",
    "- $d$ is the damping factor (usually 0.85)\n",
    "- $N$ is the total number of nodes\n",
    "- $M(i)$ are nodes linking to $i$\n",
    "- $L(j)$ is the number of links from node $j$"
   ]
  },
  {
   "cell_type": "code",
   "execution_count": 37,
   "id": "04d5f748",
   "metadata": {},
   "outputs": [],
   "source": [
    "def calculate_pagerank(connection_matrix, d=0.85, max_iter=100, tol=1e-6):\n",
    "    \"\"\"\n",
    "    Calculate PageRank scores based on the connection matrix.\n",
    "    \n",
    "    Args:\n",
    "        connection_matrix (np.ndarray): The connection matrix.\n",
    "        d (float): Damping factor.\n",
    "        max_iter (int): Maximum number of iterations.\n",
    "                    This stops the algorithm if it doesnt converge quickly to avoid infinite loops.\n",
    "        tol (float): Tolerance for convergence. \n",
    "                    If the change in PageRank scores between iterations is less than this value, \n",
    "                    the algorithm stops early (it's considered converged)\n",
    "        \n",
    "    Returns:\n",
    "        np.ndarray: PageRank scores for each sentence.\n",
    "    \"\"\"\n",
    "    # Find the number of nodes in the connection matrix by getting the number of rows of adjacency matrix\n",
    "    num_nodes = connection_matrix.shape[0]\n",
    "    # Convert matrix elements to float\n",
    "    transition_matrix = connection_matrix.astype(float) \n",
    "    # Sum up each row to get the total number of connections for each sentence\n",
    "    \n",
    "    row_sums = transition_matrix.sum(axis=1)\n",
    "\n",
    "    \n",
    "    # Initialize PageRank scores to 1 for each node\n",
    "    pagerank_scores = np.ones(num_nodes)\n",
    "    # Iterate to update PageRank scores\n",
    "    for _ in range(max_iter):\n",
    "        new_pagerank_scores = np.full(num_nodes, (1 - d) / num_nodes)\n",
    "        for i in range(num_nodes):\n",
    "            for j in range(num_nodes): \n",
    "                if connection_matrix[j][i] == 1:\n",
    "                    new_pagerank_scores[i] += d*(pagerank_scores[j] / row_sums[j])\n",
    "        # Check for convergence\n",
    "        if np.linalg.norm(new_pagerank_scores - pagerank_scores, ord=1) < tol:\n",
    "            break\n",
    "        pagerank_scores = new_pagerank_scores\n",
    "    return pagerank_scores\n",
    "pagerank_scores = calculate_pagerank(connection_matrix)\n",
    "# Print the PageRank scores\n",
    "# print(\"PageRank Scores:\")\n",
    "# for i, score in enumerate(pagerank_scores):\n",
    "#     print(f\"Sentence ID {i}: {score:.4f} - {sentences_dict[i]['sentence_text']}\")    \n",
    "    \n",
    "                                    \n",
    "    "
   ]
  },
  {
   "cell_type": "markdown",
   "id": "a6c64a16",
   "metadata": {},
   "source": [
    "Get the 10% highest score sentences to create a summary"
   ]
  },
  {
   "cell_type": "code",
   "execution_count": 38,
   "id": "7695c73f",
   "metadata": {},
   "outputs": [
    {
     "name": "stdout",
     "output_type": "stream",
     "text": [
      "Summary Sentences:\n",
      "Sentence ID 81: 0.01083495 - The deaths brought to 81 the number of people killed since Jan. 20 in clashes between security forces and Moslem militants fighting for secession of the Moslem-dominated Kashmir region from Hindu-majority India.\n",
      "Sentence ID 47: 0.01069815 - ``We are neither fighting a war nor trying to suppress any popular movement,'' said Jagmohan, governor of Jammu-Kashmir, the only state in predominantly Hindu India with a Moslem majority.\n",
      "Sentence ID 164: 0.01069223 - President Abdul Qayyum, speaking to a reporter who traveled to Pakistan's Kashmir, said the people of his state also had been sheltering insurgents since India launched the military crackdown in its state of Jammu-Kashmir last month.\n",
      "Sentence ID 313: 0.00931257 - On Tuesday, at least 29 militants were killed by Indian security forces in Kashmir, the Moslem-dominated northern part of Jammu-Kashmir state and the center of the secessionist campaign.\n",
      "Sentence ID 163: 0.00908943 - Meanwhile, the president of the Pakistan state of Kashmir said in an interview Saturday that Kashmiris there had begun smuggling arms across the border to Moslem insurgents fighting for independence from India.\n",
      "Sentence ID 78: 0.00870059 - Moslem militants armed with automatic rifles shot and killed two unarmed paramilitary soldiers on Thursday in Srinagar, the flashpoint of a violent separatist campaign, officials said.\n",
      "Sentence ID 8: 0.00867284 - At least 47 people have been killed in Jammu-Kashmir state since the beginning of the year in violence triggered by Moslem militants demanding independence or union with Islamic Pakistan.\n",
      "Sentence ID 214: 0.00858709 - At least 195 people, mostly Moslem demonstrators, have been killed in the northern state of Jammu-Kashmir since Jan. 20 when the government launched a crackdown on the separatists.\n",
      "Sentence ID 0: 0.00847120 - Troops battled mobs of Moslem separatists in the Kashmir city of Srinagar over the weekend, and at least 21 people were killed and 100 wounded before the fighting subsided Sunday night, police said.\n",
      "Sentence ID 281: 0.00827236 - Hindu-dominated India accuses Pakistan of arming and training Kashmiri militants fighting for secession of Jammu-Kashmir, India's only state with a Moslem majority.\n",
      "Sentence ID 34: 0.00806824 - Military jeeps carry senior government officials and civil servants around Srinagar in these dangerous days, as soldiers and paramilitary troopers try to stop a campaign of violence by Moslem separatists in the Kashmir Valley.\n",
      "Sentence ID 135: 0.00753326 - About 64 percent of Jammu-Kashmir's 6 million people are Moslems, making it the only Moslem majority state in predominantly Hindu India's 25 states.\n",
      "Sentence ID 205: 0.00737393 - Jagmohan, a Hindu, was appointed the state governor of Jammu-Kashmir on Jan. 18 in an attempt by the government to control the unrest.\n",
      "Sentence ID 113: 0.00732244 - Pakistan's top diplomat in New Delhi, Bashir Babar, was summoned to India's Foreign Ministry on Sunday and today and apprised of India's concern over the events, an Indian government spokesman said.\n",
      "Sentence ID 165: 0.00685904 - In India's Kashmir, the 600-year-old shrine of Shiekh Nuruddin Wali at Charift Sharief, 20 miles northwest of Srinagar, became a sea of humanity as Moslem men, women and children poured in from Srinagar and nearby towns.\n",
      "Sentence ID 361: 0.00684448 - India accuses Pakistan of supporting a Moslem secessionist movement in the Indian sector by providing arms and training to Moslem militants.\n",
      "Sentence ID 365: 0.00650767 - Military officials in Jammu, the summer capital of India-held Kashmir, said Tuesday that tanks and troops reinforcements were dispatched to the border areas.\n",
      "Sentence ID 168: 0.00618482 - In Srinagar, the summer capital of Jammu-Kashmir state, residents were told by Moslem militants to put their clocks back by 30 minutes to correspond with the Pakistan standard time.\n",
      "Sentence ID 160: 0.00611468 - Freedom''! trekked to a Moslem saint's shrine Saturday to campaign for the secession of Kashmir from India, witnesses and pro-separatist activists said.\n",
      "Sentence ID 344: 0.00606647 - In Pakistan, a Defense Ministry spokesman, who cannot be identified under briefing rules, said Tuesday that Indian and Pakistani soldiers exchanged artillery fire in the Kel sector along the cease-fire line dividing Kashmir into Pakistani and Indian regions.\n",
      "Sentence ID 206: 0.00581136 - Kashmir has been a problem for more than four decades following the 1947 partition of British colonial India into predominantly Moslem Pakistan and the mostly Hindu India.\n",
      "Sentence ID 172: 0.00570661 - On Friday, at least 200,000 people marched to the office of the United Nations Military Observers Group in Srinagar, demanding a plebiscite in Kashmir, police said.\n",
      "Sentence ID 98: 0.00566605 - ``Let us impress once again on our young brothers to see the futility of the cult of guns and understand the magnitude of all-round misery that it has caused,'' he said in a letter released by the state government.\n",
      "Sentence ID 294: 0.00561656 - The bodies of four Moslems were found in a Kashmir town Monday, five days after they were kidnapped by Moslem militants agitating for secession from India.\n",
      "Sentence ID 262: 0.00555004 - The caller claimed to speak for the Students Liberation Front, a branch of the Jammu-Kashmir Liberation Front fighting for autonomy in the predominantly Moslem state.\n",
      "Sentence ID 182: 0.00544331 - Naveed Hussain, a government spokesman in Pakistan's Kashmir, said in an interview that $5,000 had been raised in a week and that the money would be used to train Kashmiri militia groups in territory held by Pakistan.\n",
      "Sentence ID 148: 0.00543536 - The border crossing was the scene of a bloody confrontation on Feb. 11 between Indian troops and Pakistani students, who were marching in solidarity with activists in Indian-held Kashmir.\n",
      "Sentence ID 225: 0.00541206 - The front is one of several Moslem militant groups waging a campaign of bombings and assassinations to press demands for the independence of Kashmir, a part of Jammu-Kashmir state.\n",
      "Sentence ID 253: 0.00522299 - At least 233 people have been killed in Kashmir since Jan. 20 when the government launched a crackdown on increasing violence by Moslem separatists.\n",
      "Sentence ID 134: 0.00508866 - The Jammu-Kashmir Liberation Front had earlier campaigned for union with Islamic Pakistan but has in recent years demanded independence and the status of a neutral country.\n",
      "Sentence ID 44: 0.00503768 - A spokesman for the Jammu-Kashmir state government said the situation was peaceful and ``absolutely normal'' in Srinagar, the state's largest city.\n",
      "Sentence ID 103: 0.00503594 - Kashmiri militants had earlier campaigned for union with Pakistan, which claims Kashmir because of its predominant Moslem population, but now they demand independence and the status of a neutral country .\n",
      "Sentence ID 295: 0.00499281 - The bodies, which had bullet wounds, were found in the town of Sopore about 35 miles northwest of the Kashmir capital of Srinagar, said police officials speaking on condition of anonymity.\n",
      "Sentence ID 275: 0.00492877 - ``India is indulging in genocide,'' Ms. Bhutto said at a news conference Thursday after returning from a weeklong tour of eight Moslem countries in the Middle East and North Africa.\n",
      "Sentence ID 189: 0.00487276 - An around-the-clock curfew was imposed Friday after security forces the day before shot and killed 49 Moslem demonstrators marching into Srinagar to take part in a pro-independence rally.\n",
      "Sentence ID 325: 0.00481650 - Indian frontier guards shot and killed 20 Moslem militants and arrested nine others after they sneaked into India-held Kashmir from Pakistan, a senior official said today.\n"
     ]
    }
   ],
   "source": [
    "# summary_sentences = sorted(range(len(pagerank_scores)), key=lambda i: pagerank_scores[i], reverse=True)[:int(0.1 * len(pagerank_scores))]\n",
    "# summary = [sentence_dict[i]['sentence_text'] for i in summary_sentences]\n",
    "# print(\"\\nSummary Sentences:\")\n",
    "# for sentence in summary:\n",
    "#     print(sentence)\n",
    "# Get the 10% highest score sentences to create a summary\n",
    "summary_sentences = sorted(range(len(pagerank_scores)), key=lambda i: pagerank_scores[i], reverse=True)[:int(0.1 * len(pagerank_scores))]\n",
    "print(\"Summary Sentences:\")\n",
    "for i in summary_sentences:\n",
    "    print(f\"Sentence ID {i}: {pagerank_scores[i]:.8f} - {sentences_dict[i]['sentence_text']}\")\n",
    "# summary = [sentence_dict[i]['sentence_text'] for i in summary_sentences]\n",
    "# print(\"\\nSummary Sentences:\")\n",
    "# for sentence in summary:\n",
    "#     print(sentence)\n"
   ]
  },
  {
   "cell_type": "code",
   "execution_count": 39,
   "id": "8bf407cd",
   "metadata": {},
   "outputs": [
    {
     "name": "stdout",
     "output_type": "stream",
     "text": [
      "\n",
      "Top 10% sentences written to output/d114h_commonword\n"
     ]
    }
   ],
   "source": [
    "# Create output directory if it doesn't exist\n",
    "output_dir = 'output'\n",
    "os.makedirs(output_dir, exist_ok=True)\n",
    "\n",
    "# Get the input file name without the extension\n",
    "input_filename = os.path.splitext(os.path.basename(file_path))[0]\n",
    "\n",
    "# Define the output file path\n",
    "output_file_path = os.path.join(output_dir, f'{input_filename}_commonword')\n",
    "\n",
    "# Write the top sentences to the output file in the desired format\n",
    "with open(output_file_path, 'w') as outfile:\n",
    "    for sentence_id in summary_sentences:\n",
    "        doc_id = sentences_dict[sentence_id]['doc_id']\n",
    "        wdcount = sentences_dict[sentence_id]['wdcount']\n",
    "        num = sentences_dict[sentence_id]['num']\n",
    "        sentence_text = sentences_dict[sentence_id]['sentence_text']\n",
    "        # Reconstruct the original sentence tag format\n",
    "        outfile.write(f'<s doc_id=\"{doc_id}\" num=\"{num}\" wdcount=\"{wdcount}\"> {sentence_text}</s>\\n')\n",
    "\n",
    "print(f\"\\nTop 10% sentences written to {output_file_path}\")"
   ]
  },
  {
   "cell_type": "code",
   "execution_count": 40,
   "id": "2adf71f5",
   "metadata": {},
   "outputs": [],
   "source": [
    "# Evaluate the result with the summay file has given in DUC_SUM folder\n",
    "\n",
    "preference_sum_path = \"DUC_SUM/d112h\"  \n",
    "with open(preference_sum_path, \"r\", encoding=\"utf-8\") as file:\n",
    "    preference_sum_file = file.read()\n",
    "\n",
    "preference_sum_dict = parse_doc(preference_sum_file)\n",
    "# compare the summary_sentences with the preference summary \n",
    "\n"
   ]
  },
  {
   "cell_type": "code",
   "execution_count": 41,
   "id": "7f21aeb5",
   "metadata": {},
   "outputs": [
    {
     "name": "stdout",
     "output_type": "stream",
     "text": [
      "0 out of 11 summary sentences are in the preference summary (0.00%)\n"
     ]
    }
   ],
   "source": [
    "# Get the set of (doc_id, num) for sentences in preference_sum_dict\n",
    "preference_keys = set((v['doc_id'], v['num']) for v in preference_sum_dict.values())\n",
    "\n",
    "# Count how many summary_sentences are present in preference_sum_dict by (doc_id, num)\n",
    "matched = 0\n",
    "for sid in summary_sentences:\n",
    "    sent = sentences_dict[sid]\n",
    "    if (sent['doc_id'], sent['num']) in preference_keys:\n",
    "        matched += 1\n",
    "\n",
    "percentage = (matched / len(preference_sum_dict)) * 100 if preference_sum_dict else 0\n",
    "print(f\"{matched} out of {len(preference_sum_dict)} summary sentences are in the preference summary ({percentage:.2f}%)\")"
   ]
  }
 ],
 "metadata": {
  "kernelspec": {
   "display_name": "py312",
   "language": "python",
   "name": "python3"
  },
  "language_info": {
   "codemirror_mode": {
    "name": "ipython",
    "version": 3
   },
   "file_extension": ".py",
   "mimetype": "text/x-python",
   "name": "python",
   "nbconvert_exporter": "python",
   "pygments_lexer": "ipython3",
   "version": "3.12.11"
  }
 },
 "nbformat": 4,
 "nbformat_minor": 5
}
